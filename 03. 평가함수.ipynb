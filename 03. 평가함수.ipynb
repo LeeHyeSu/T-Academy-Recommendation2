{
 "cells": [
  {
   "cell_type": "markdown",
   "metadata": {},
   "source": [
    "# 평가함수"
   ]
  },
  {
   "cell_type": "markdown",
   "metadata": {},
   "source": [
    "```\n",
    "✅ 평가함수를 다양하게 알아야 하는 이유\n",
    "평가함수는 추천시스템의 모델이 얼마나 잘 추천하고 있는지에 대한 평가를 도와주는 함수. \n",
    "도메인이나 목적에 따라서 다른 평가 함수를 도입해서 얼마나 잘 추천이 되는지 평가하는게 \n",
    "중요. \n",
    "예를들어, 영화평점의 경우에서는 두가지 형태로 평가를 할 수 있음.\n",
    "\n",
    "-  내가 추천해준 영화를 고객이 봤나? \n",
    "-  내가 추천해준 영화를 고객이 높은 점수로 평점을 줬나? \n",
    "\n",
    "1번의 경우 단순히 보기만하면 추천에 성공했다고 하지만, 실제 고객의 만족도는 낮을 수 있음.\n",
    "반대로 2의 경우는 고객의 만족도까지 고려해서 평가함. \n",
    "```"
   ]
  },
  {
   "cell_type": "markdown",
   "metadata": {},
   "source": [
    "## Accuracy\n",
    "```\n",
    "- 내가 추천해준 영화를 고객이 봤나? Vs 보지 않았나?  \n",
    "- 내가 추천해주는 영화를 많이 볼수록, 추천하지 않은 영화를 보지 않을수록 정확도는 상승 \n",
    "- 하지만, 추천하지 않은 영화의 수는 추천한 영화의 수에 비해 굉장히 많고 편향된 결과를 얻을 수 있음 \n",
    "\n",
    "그래서, 추천해준 영화 중 본 영화로만 평가를 매겨줘야하지만,\n",
    "만약 모든 상품을 추천해 줄 경우 정확도는 무조건 1이 나옴. \n",
    "상위 n개의 상품만 추천한다고 했을때 어느정도의 정확도를 얻는지 판단하는게 제일 정확한 값을 얻을 수 있음.\n",
    "```"
   ]
  },
  {
   "cell_type": "markdown",
   "metadata": {},
   "source": [
    "![image](https://user-images.githubusercontent.com/37262132/121808072-e937bb00-cc91-11eb-9306-eba4487ff194.png)"
   ]
  },
  {
   "cell_type": "markdown",
   "metadata": {},
   "source": [
    "## F1-Score\n",
    "![image](https://user-images.githubusercontent.com/37262132/121808160-3e73cc80-cc92-11eb-8f34-82aa9bb0d19a.png)\n",
    "```\n",
    "- F1은 Precision 과 Recall 의 역수를 더한값을 분모로 2를 분자로 가지는 평가함수. \n",
    "    - Precision은 실제 본 영화의 수 대비 추천했는데 본 영화의 수를 의미. \n",
    "    - Recall은 실제 추천한 영화의 수 대비 추천했는데 본 영화의 수를 의미. \n",
    "- 위 2가지 함수를 함께 봄으로서 추천을 통해 맞춘 영화의 비율과 추천을 안해서 안볼 영화를 맞춘 비율을 적절하게 조절하는 평가함수.\n",
    "```"
   ]
  },
  {
   "cell_type": "markdown",
   "metadata": {},
   "source": [
    "## RMSE\n",
    "![image](https://user-images.githubusercontent.com/37262132/121808262-91e61a80-cc92-11eb-99f2-ef6960393e6c.png)\n",
    "```\n",
    "- Accuracy : 내가 추천해준 영화를 고객이 봤나? Vs 보지 않았나?  \n",
    "- RMSE : 추천한 평점이 얼마나 다를지? (영화추천의 경우 사용자가 5를 평가하는 경우를 얼마나 잘 맞출지) \n",
    "\n",
    "위의 경우에서 Accuracy와 RMSE의 평가는 굉장히 다름.\n",
    "Accuracy의 경우 단순히 볼까? 안볼까에 대한 평가만 진행하고,\n",
    "사용자의 반응에 대해서는 크게 궁금해하지 않음. \n",
    "(예를들어, 영화를 구매하고 보자마자 재미없어서 나간것도 추천에 성공한 것으로 반영) \n",
    "이러한 반응까지 잘 반영해야 하는게 중요함. \n",
    "```"
   ]
  },
  {
   "cell_type": "markdown",
   "metadata": {},
   "source": [
    "## MAP\n",
    "![image](https://user-images.githubusercontent.com/37262132/121808367-120c8000-cc93-11eb-8aae-79231655d2c7.png)\n",
    "```\n",
    "- Recommendations : 추천을 했는데 맞은 경우 1, 틀리면 0 \n",
    "- AP : Precision @k’s를 평균낸 값 (추천한 K개의 영화의 Precision 을 평균) \n",
    "- MAP@4 : 4명의 사용자의 AP를 평균낸 값 (Precision 을 평균낸 AP 를 4명의 사용자에 대해 평균) \n",
    "\n",
    "MAP의 경우 추천의 순서에 따라서 값이 차이가 남. \n",
    "또한, 상위 k개의 추천에 대해서만 평가하기 때문에\n",
    "k를 바꿔가면서 상위 몇 개를 추천하는게 좋을지도 결정할 수 있음. \n",
    "```"
   ]
  },
  {
   "cell_type": "markdown",
   "metadata": {},
   "source": [
    "## NDCG \n",
    "```\n",
    "검색 알고리즘에서 성과를 측정하는 평가 메트릭.\n",
    "\n",
    "추천엔진은 user 와 연관있는 documents 의 집합을 추천해 주기 때문에,\n",
    "단순히 문서 검색 작업을 수행한다고 생각할 수 있음. (검색과 관련있는 문서들을 추천) \n",
    "따라서 NDCG를 사용하여 추천엔진을 평가할 수 있음. \n",
    "NDCG를 이해하기 위해서는 CG(cumulative gain) 와 DCG(Discounted Cumulative Gain) 이해 필요.\n",
    "\n",
    "```"
   ]
  },
  {
   "cell_type": "markdown",
   "metadata": {},
   "source": [
    "```\n",
    "✅ CG(cumulative gain)\n",
    "- 상위 p개의 추천 결과들의 관련성(rel, relevance)을 합한 누적값\n",
    "- rel은 단순히 binary value(관련이 있는지 없는지)이거나 문제에 따라 세분화된 값을 가질 수 있음\n",
    "- CG는 상위 p개의 추천 결과들을 모두 동일한 비중으로 계산\n",
    "\n",
    "✅ DCG(Discounted Cumulative Gain)\n",
    "- 기존의 CG에서 랭킹 순서에 따라 점점 비중을 줄여 discounted 된 관련도를 계산하는 방법\n",
    "- 랭킹 순서에 대한 로그함수를 분모로 두면, 하위권으로 갈수록 rel 대비 작은 DCG 값을 가짐\n",
    "    - 하위권 결과에 패널티를 주는 방식\n",
    "    \n",
    "✅ NDCG (Normalized Discounted Cumulative Gain)\n",
    "DCG는 추천결과의 위치를 고려할 때 좋은 척도로 보이지만 완벽하지 않음. \n",
    "그 이유는 다양한 요인에 따라 권장 사항 수가 사용자마다 다를 수 있는데, \n",
    "DCG는 권장 사항의 수에 따라 결과가 달라지기 때문. \n",
    "그에 따라 상한과 하한이 적절한 점수가 필요하므로 모든 추천 점수를 평균하여 최종 점수를 보고 정규화 할 필요가 있음. \n",
    "이를 반영한게 NDCG\n",
    "\n",
    "-   사람마다 추천해주는 개수가 다를 수 있으니 이를 반영해 줘야함. \n",
    "-   DCG에 Normalize 를 수행해서 NDCG를 사용\n",
    "```"
   ]
  },
  {
   "cell_type": "code",
   "execution_count": 1,
   "metadata": {
    "ExecuteTime": {
     "end_time": "2021-06-13T13:13:46.143411Z",
     "start_time": "2021-06-13T13:13:46.117499Z"
    }
   },
   "outputs": [],
   "source": [
    "# 참고 사이트 : https://joyae.github.io/2020-09-02-nDCG/"
   ]
  }
 ],
 "metadata": {
  "kernelspec": {
   "display_name": "Python 3",
   "language": "python",
   "name": "python3"
  },
  "language_info": {
   "codemirror_mode": {
    "name": "ipython",
    "version": 3
   },
   "file_extension": ".py",
   "mimetype": "text/x-python",
   "name": "python",
   "nbconvert_exporter": "python",
   "pygments_lexer": "ipython3",
   "version": "3.8.5"
  },
  "toc": {
   "base_numbering": 1,
   "nav_menu": {},
   "number_sections": true,
   "sideBar": true,
   "skip_h1_title": false,
   "title_cell": "Table of Contents",
   "title_sidebar": "Contents",
   "toc_cell": false,
   "toc_position": {},
   "toc_section_display": true,
   "toc_window_display": false
  }
 },
 "nbformat": 4,
 "nbformat_minor": 4
}
