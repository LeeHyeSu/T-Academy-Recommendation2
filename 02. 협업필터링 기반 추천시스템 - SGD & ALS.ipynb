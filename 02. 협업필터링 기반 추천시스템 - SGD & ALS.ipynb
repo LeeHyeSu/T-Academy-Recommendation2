{
 "cells": [
  {
   "cell_type": "markdown",
   "metadata": {},
   "source": [
    "# 협업 필터링"
   ]
  },
  {
   "cell_type": "markdown",
   "metadata": {},
   "source": [
    "## 협업 필터링 개요\n",
    "```\n",
    "✅ 정의\n",
    "협업 필터링은 사용자의 구매 패턴이나 평점을 가지고 다른 사람들의 구매 패턴, 평점을 통해서 추천 하는 방법. \n",
    "추가적인 사용자의 개인정보나 아이템의 정보가 없이도 추천할 수 있는게 큰 장점.\n",
    "\n",
    "✅ 종류\n",
    "1. 최근접 이웃기반\n",
    "2. 잠재 요인기반\n",
    "\n",
    "✅ 장점\n",
    "- 도메인 지식이 필요하지 않음 \n",
    "- 사용자의 새로운 흥미를 발견하기 좋음 \n",
    "- 시작단계의 모델로 선택하기 좋음 (추가적인 문맥정보 등의 필요가 없음) \n",
    "\n",
    "✅ 단점\n",
    "- 새로운 아이템에 대해서 다루기가 힘듬 \n",
    "- side features(고객의 개인정보, 아이템의 추가정보)를 포함시키기 어려움\n",
    "```"
   ]
  },
  {
   "cell_type": "markdown",
   "metadata": {},
   "source": [
    "## Neighborhood based method\n",
    "```\n",
    "✅ 정의\n",
    "Neighborhood based Collaborative Filtering 은 메모리 기반 알고리즘으로 협업 필터링을 위해 개발된 초기 알고리즘\n",
    "\n",
    "✅ 알고리즘\n",
    "1.  User-based collaborative filtering\n",
    "사용자의 구매 패턴(평점)과 유사한 사용자를 찾아서 추천 리스트 생성\n",
    "\n",
    "2.  Item-based collaborative filtering\n",
    "특정 사용자가 준 점수간의 유사한 상품을 찾아서 추천 리스트 생성\n",
    "```"
   ]
  },
  {
   "cell_type": "markdown",
   "metadata": {},
   "source": [
    "```\n",
    "✅ 장점\n",
    "- 간단하고 직관적인 접근 방식 때문에 구현 및 디버그가 쉬움\n",
    "- 특정 Item 을 추천하는 이유는 정당화하기 쉽고 Item 기반 방법의 해석 가능성이 두드러짐\n",
    "- 추천 리스트에 새로운 item 과 user 가 추가되어도 상대적으로 안정적\n",
    "\n",
    "✅ 단점\n",
    "- User 기반 방법의 시간, 속도, 메모리가 많이 필요\n",
    "- 희소성 때문에 제한된 범위가 있음\n",
    "    - John 의 Top-K 에만 관심이 있음\n",
    "    - John 과 비슷한 이웃중에서 아무도 해리포터를 평가하지 않으면, \n",
    "      John 의 해리포터에 대한 등급 예측을 제공할 수가 없음\n",
    "```"
   ]
  },
  {
   "cell_type": "markdown",
   "metadata": {},
   "source": [
    "## Latent Factor Collaborative Filtering\n",
    "```\n",
    "✅ 정의\n",
    "잠재 요인 협업 필터링은 Rating Matrix 에서 빈 공간을 채우기 위해서 사용자와 상품을 잘 표현하는 차원(Latent Factor)을 찾는 방법. \n",
    "잘 알려진 행렬 분해는 추천 시스템에서 사용되는 협업 필터링 알고리즘의 한 종류.\n",
    "행렬 분해 알고리즘은 사용자-아이템 상호 작용 행렬을 두 개의 저 차원 직사각형 행렬의 곱으로 분해하여 작동.\n",
    "```"
   ]
  },
  {
   "cell_type": "markdown",
   "metadata": {},
   "source": [
    "### Matrix Factorization Principles\n",
    "```\n",
    "✅ 원리\n",
    "사용자의 잠재요인과 아이템의 잠재요인을 내적해서 평점 매트릭스를 계산\n",
    "```"
   ]
  },
  {
   "cell_type": "markdown",
   "metadata": {},
   "source": [
    "### SVD\n",
    "```\n",
    "✅ 정의\n",
    "고유값 분해(eigen value Decomposition)와 같은 행렬을 대각화 하는 방법\n",
    "```\n",
    "$$𝑅  =  𝑈𝛴𝑉^𝑇$$\n",
    "```\n",
    "U : (m, m) 직교행렬 \n",
    "V : (n, n) 직교행렬 \n",
    "Σ : (m, n) 직사각 대각행렬\n",
    "```"
   ]
  },
  {
   "cell_type": "markdown",
   "metadata": {},
   "source": [
    "```\n",
    "✅ 예시\n",
    "Explict Feedback 된 형태의 4명의 유저에 대한 3개의 아이템에 대한 평점 Matrix\n",
    "1.  User Latent 와 Item Latent 를 임의로 초기화\n",
    "2.  Gradient Descent 진행\n",
    "3.  모든 평점에 대해서 반복 (epoch : 1)\n",
    "4.  2~3의 과정을 10번 반복 (epoch : 10)\n",
    "\n",
    "✅ 한계\n",
    "1. 데이터에 결측치가 없어야 함\n",
    "2. 대부분의 현업 데이터는 Sparse한 데이터\n",
    "\n",
    "✅ 장점\n",
    "- 매우 유연한 모델로 다른 Loss function 을 사용할 수 있음\n",
    "- parallelized 가 가능함\n",
    "\n",
    "✅ 단점\n",
    "- 수렴까지 속도가 매우 느림\n",
    "```"
   ]
  },
  {
   "cell_type": "markdown",
   "metadata": {},
   "source": [
    "### ALS\n",
    "```\n",
    "✅ 정의\n",
    "기존의 SGD 가 두개의 행렬(User Latent, Item Latent)을 동시에 최적화하는 방법이라면,\n",
    "ALS는 두 행렬 중 하나를 고정시키고 다른 하나의 행렬을 순차적으로 반복하면서 최적화 하는 방법. \n",
    "기존의 최적화 문제가 convex 형태로 바뀌기에 수렴된 행렬을 찾을 수 있다는 것이 장점.\n",
    "\n",
    "✅ 알고리즘\n",
    "1.  초기 아이템, 사용자 행렬을 초기화 \n",
    "2.  아이템 행렬을 고정하고 사용자 행렬을 최적화 \n",
    "3.  사용자 행렬을 고정하고 아이템 행렬을 최적화 \n",
    "4.  위의 2, 3 과정을 반복\n",
    "\n",
    "✅ 장점\n",
    "- SGD보다 수렴속도가 빠름 \n",
    "- parallelized가 가능함\n",
    "\n",
    "✅ 단점\n",
    "- 오직 Loss Squares 만 사용가능\n",
    "```"
   ]
  },
  {
   "cell_type": "markdown",
   "metadata": {},
   "source": [
    "## 알고리즘"
   ]
  },
  {
   "cell_type": "code",
   "execution_count": 5,
   "metadata": {
    "ExecuteTime": {
     "end_time": "2021-06-13T08:58:13.642810Z",
     "start_time": "2021-06-13T08:58:13.613889Z"
    }
   },
   "outputs": [],
   "source": [
    "import numpy as np\n",
    "from tqdm import tqdm_notebook as tqdm\n",
    "\n",
    "# Base code : https://github.com/mickeykedia/Matrix-Factorization-ALS/blob/master/ALS%20Python%20Implementation.py\n",
    "class AlternatingLeastSquares():\n",
    "    def __init__(self, R, k, reg_param, epochs, verbose=False):\n",
    "        '''\n",
    "        R : rating matrix\n",
    "        k : latent parameter\n",
    "        learning_rate : alpha on weight update\n",
    "        reg_param : beta on weight update\n",
    "        epochs : training epochs\n",
    "        verbose : print status\n",
    "        '''\n",
    "        self._R = R\n",
    "        self._num_users, self._num_items = R.shape\n",
    "        self._k = k\n",
    "        self._reg_param = reg_param\n",
    "        self._epochs = epochs\n",
    "        self._verbose = verbose\n",
    "        \n",
    "    def fit(self):\n",
    "        # init latent features\n",
    "        self._users = np.random.normal(size=(self._num_users, self._k))\n",
    "        self._items = np.random.normal(size=(self._num_items, self._k))\n",
    "        \n",
    "        # train while epochs\n",
    "        self._training_process = []\n",
    "        self._user_error = 0\n",
    "        self._item_error = 0\n",
    "        for epoch in range(self._epochs):\n",
    "            for i, Ri in enumerate(self._R):\n",
    "                self._users[i] = self.user_latent(i, Ri)\n",
    "                self._user_error = self.cost()\n",
    "                \n",
    "            for j, Rj in enumerate(self._R.T):\n",
    "                self._items[j] = self.item_latent(j, Rj)\n",
    "                self._item_error = self.cost()\n",
    "                \n",
    "            cost = self.cost()\n",
    "            self._training_process.append((epoch, cost))\n",
    "            \n",
    "            # print status\n",
    "            if self._verbose == True and ((epoch + 1) % 10 == 0):\n",
    "                print('Iteration: %d ; cost = %.4f' % (epoch + 1, cost))\n",
    "                \n",
    "    def cost(self):\n",
    "        '''\n",
    "        compute root mean square error\n",
    "        return : rmse cost\n",
    "        '''\n",
    "        xi, yi = self._R.nonzero()\n",
    "        cost = 0\n",
    "        for x, y in zip(xi, yi):\n",
    "            cost += pow(self._R[x, y] - self.get_prediction(x, y), 2)\n",
    "        return np.sqrt(cost / len(xi))\n",
    "    \n",
    "    def user_latent(self, i, Ri):\n",
    "        '''\n",
    "        i : user index\n",
    "        Ri : Rating of user index i\n",
    "        return : convergence value of user latent of i index\n",
    "        '''\n",
    "        du = np.linalg.solve(np.dot(self._items.T, np.dot(np.diag(Ri), self._items)) + self._reg_param * np.eye(self._k), \n",
    "                             np.dot(self._items.T, np.dot(np.diag(Ri), self._R[i].T))).T\n",
    "        return du\n",
    "        \n",
    "    def item_latent(self, j, Rj):\n",
    "        '''\n",
    "        j : item index\n",
    "        Rj : Rating of item index j\n",
    "        return : convergence value of item latent of j index\n",
    "        '''\n",
    "        di = np.linalg.solve(np.dot(self._users.T, np.dot(np.diag(Rj), self._users)) + self._reg_param * np.eye(self._k),\n",
    "                            np.dot(self._users.T, np.dot(np.diag(Rj), self._R[:, j])))\n",
    "        return di\n",
    "        \n",
    "    def get_prediction(self, i, j):\n",
    "        '''\n",
    "        get predicted rating : user_i, item_j\n",
    "        return : prediction of r_ij\n",
    "        '''\n",
    "        return self._users[i, :].dot(self._items[j, :].T)\n",
    "        \n",
    "    def get_complete_matrix(self):\n",
    "        '''\n",
    "        return : complete matrix R^\n",
    "        '''\n",
    "        return self._users.dot(self._items.T)\n",
    "    \n",
    "# run example\n",
    "if __name__ == '__main__':\n",
    "    # rating matrix - User X Item : (7 X 5) \n",
    "    R = np.array([\n",
    "        [1, 0, 0, 1, 3],\n",
    "        [2, 0, 3, 1, 1],\n",
    "        [1, 2, 0, 5, 0],\n",
    "        [1, 0, 0, 4, 4],\n",
    "        [2, 1, 5, 4, 0],\n",
    "        [5, 1, 5, 4, 0],\n",
    "        [0, 0, 0, 1, 0],\n",
    "    ])"
   ]
  },
  {
   "cell_type": "code",
   "execution_count": 6,
   "metadata": {
    "ExecuteTime": {
     "end_time": "2021-06-13T08:58:15.215941Z",
     "start_time": "2021-06-13T08:58:14.765518Z"
    }
   },
   "outputs": [
    {
     "name": "stdout",
     "output_type": "stream",
     "text": [
      "Iteration: 10 ; cost = 0.0200\n",
      "Iteration: 20 ; cost = 0.0110\n",
      "Iteration: 30 ; cost = 0.0081\n",
      "Iteration: 40 ; cost = 0.0068\n",
      "Iteration: 50 ; cost = 0.0060\n",
      "Iteration: 60 ; cost = 0.0056\n",
      "Iteration: 70 ; cost = 0.0053\n",
      "Iteration: 80 ; cost = 0.0051\n",
      "Iteration: 90 ; cost = 0.0050\n",
      "Iteration: 100 ; cost = 0.0048\n"
     ]
    }
   ],
   "source": [
    "als = AlternatingLeastSquares(R = R, reg_param = 0.01, epochs = 100, verbose = True, k = 3)\n",
    "als.fit()"
   ]
  },
  {
   "cell_type": "code",
   "execution_count": 8,
   "metadata": {
    "ExecuteTime": {
     "end_time": "2021-06-13T08:59:38.193152Z",
     "start_time": "2021-06-13T08:59:38.182154Z"
    }
   },
   "outputs": [
    {
     "data": {
      "text/plain": [
       "array([[ 1.011009,  0.530446, -0.655946,  1.002086,  2.995154],\n",
       "       [ 2.006235, -0.003494,  2.99259 ,  1.001851,  0.993138],\n",
       "       [ 0.994303,  1.996699,  1.147425,  4.998452,  2.442027],\n",
       "       [ 1.011316,  1.820737, -0.60602 ,  3.998965,  4.000714],\n",
       "       [ 2.004571,  1.000289,  5.000836,  3.999399, -0.10348 ],\n",
       "       [ 4.996402,  1.002425,  5.000347,  4.000778,  5.633392],\n",
       "       [-0.096739,  0.436091, -0.028043,  0.997799,  0.197001]])"
      ]
     },
     "execution_count": 8,
     "metadata": {},
     "output_type": "execute_result"
    }
   ],
   "source": [
    "import numpy as np\n",
    "\n",
    "# 과학적 표기법 대신 소수점 6자리까지 나타낸다.\n",
    "np.set_printoptions(precision=6, suppress=True)\n",
    "\n",
    "als.get_complete_matrix()"
   ]
  },
  {
   "cell_type": "code",
   "execution_count": null,
   "metadata": {},
   "outputs": [],
   "source": []
  }
 ],
 "metadata": {
  "kernelspec": {
   "display_name": "Python 3",
   "language": "python",
   "name": "python3"
  },
  "language_info": {
   "codemirror_mode": {
    "name": "ipython",
    "version": 3
   },
   "file_extension": ".py",
   "mimetype": "text/x-python",
   "name": "python",
   "nbconvert_exporter": "python",
   "pygments_lexer": "ipython3",
   "version": "3.8.5"
  },
  "toc": {
   "base_numbering": 1,
   "nav_menu": {},
   "number_sections": true,
   "sideBar": true,
   "skip_h1_title": false,
   "title_cell": "Table of Contents",
   "title_sidebar": "Contents",
   "toc_cell": false,
   "toc_position": {},
   "toc_section_display": true,
   "toc_window_display": false
  }
 },
 "nbformat": 4,
 "nbformat_minor": 4
}
